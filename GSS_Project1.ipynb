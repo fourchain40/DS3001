{
  "nbformat": 4,
  "nbformat_minor": 0,
  "metadata": {
    "colab": {
      "provenance": [],
      "include_colab_link": true
    },
    "kernelspec": {
      "name": "python3",
      "display_name": "Python 3"
    },
    "language_info": {
      "name": "python"
    }
  },
  "cells": [
    {
      "cell_type": "markdown",
      "metadata": {
        "id": "view-in-github",
        "colab_type": "text"
      },
      "source": [
        "<a href=\"https://colab.research.google.com/github/fourchain40/DS3001/blob/main/GSS_Project1.ipynb\" target=\"_parent\"><img src=\"https://colab.research.google.com/assets/colab-badge.svg\" alt=\"Open In Colab\"/></a>"
      ]
    },
    {
      "cell_type": "markdown",
      "source": [
        "Load selected variables into selected_gss_data.csv:"
      ],
      "metadata": {
        "id": "xIdCYra0PUWw"
      }
    },
    {
      "cell_type": "code",
      "execution_count": 44,
      "metadata": {
        "id": "ibWX1pYneC5H"
      },
      "outputs": [],
      "source": [
        "import pandas as pd\n",
        "#\n",
        "var_list = ['year', 'age', 'educ', 'relig', 'happy', 'zodiac','polviews', 'degree'] # List of variables you want to save\n",
        "output_filename = 'selected_gss_data.csv' # Name of the file you want to save the data to\n",
        "#\n",
        "modes = ['w','a'] # Has write mode and append mode\n",
        "phase = 0 # Starts in write mode; after one iteration of loop, switches to append mode\n",
        "#\n",
        "for k in range(3): # for each chunk of the data\n",
        "    url = 'https://github.com/DS3001/project_gss/raw/main/gss_chunk_' + str(1+k) + '.parquet' # Create url to the chunk to be processed\n",
        "    #print(url) # Check the url is correct\n",
        "    df = pd.read_parquet(url) # Download this chunk of data\n",
        "    #print(df.head()) # Visually inspect the first few rows\n",
        "    df.loc[:,var_list].to_csv(output_filename, # specifies target file to save the chunk to\n",
        "                              mode=modes[phase], # control write versus append\n",
        "                              header=var_list, # variable names\n",
        "                              index=False) # no row index saved\n",
        "    phase = 1 # Switch from write mode to append mode\n",
        "\n"
      ]
    },
    {
      "cell_type": "markdown",
      "source": [
        "See count of NAs in dataframe df:"
      ],
      "metadata": {
        "id": "7z7ZC2HWPfzI"
      }
    },
    {
      "cell_type": "code",
      "source": [
        "df = pd.read_csv('selected_gss_data.csv')\n",
        "print(df.shape)\n",
        "df.isna().sum()"
      ],
      "metadata": {
        "colab": {
          "base_uri": "https://localhost:8080/"
        },
        "id": "rz6kee8xgRxy",
        "outputId": "4ad050cb-201e-4e73-e1a4-c737d7c4414c"
      },
      "execution_count": 45,
      "outputs": [
        {
          "output_type": "stream",
          "name": "stdout",
          "text": [
            "(72392, 8)\n"
          ]
        },
        {
          "output_type": "stream",
          "name": "stderr",
          "text": [
            "<ipython-input-45-3ffc8cb357b5>:1: DtypeWarning: Columns (0,1,2) have mixed types. Specify dtype option on import or set low_memory=False.\n",
            "  df = pd.read_csv('selected_gss_data.csv')\n"
          ]
        },
        {
          "output_type": "execute_result",
          "data": {
            "text/plain": [
              "year           0\n",
              "age          769\n",
              "educ         263\n",
              "relig        437\n",
              "happy       4802\n",
              "zodiac      7939\n",
              "polviews    9672\n",
              "degree       196\n",
              "dtype: int64"
            ]
          },
          "metadata": {},
          "execution_count": 45
        }
      ]
    },
    {
      "cell_type": "markdown",
      "source": [
        "Change column names:"
      ],
      "metadata": {
        "id": "98fjAIzwPpNh"
      }
    },
    {
      "cell_type": "code",
      "source": [
        "df = df.rename(columns = {'educ':'education',\n",
        "                    'relig':'religion',\n",
        "                    'polviews':'political_view'})"
      ],
      "metadata": {
        "id": "Ci3j2DSxrEtu"
      },
      "execution_count": 53,
      "outputs": []
    },
    {
      "cell_type": "markdown",
      "source": [
        "Clean religion variable:"
      ],
      "metadata": {
        "id": "NFNVqOpuRAdk"
      }
    },
    {
      "cell_type": "code",
      "source": [
        "religion = df['religion']\n",
        "religion.fillna('unknown', inplace=True) #replace NAs with 'unknown'\n",
        "religion.drop(df[df['religion'] == 'relig'].index, inplace=True) #drop rows with relig\n",
        "df['religion'] = religion\n",
        "del religion"
      ],
      "metadata": {
        "id": "Oq0Pnn9hRo7w"
      },
      "execution_count": 54,
      "outputs": []
    },
    {
      "cell_type": "markdown",
      "source": [
        "Clean age variable:"
      ],
      "metadata": {
        "id": "wNNQ4gKRONDW"
      }
    },
    {
      "cell_type": "code",
      "source": [
        "age = df['age']\n",
        "age = pd.to_numeric(age,errors='coerce') # Typecast age to float/numeric\n",
        "age.fillna('unknown', inplace=True) #replace NAs with 'unknown'\n",
        "age = age.apply(lambda x: int(x) if pd.notnull(x) and x != 'unknown' else x) # converts age to integer and removes the .0 at the end\n",
        "df['age'] = age\n",
        "del age"
      ],
      "metadata": {
        "id": "bRmJlKqbMPr4"
      },
      "execution_count": 68,
      "outputs": []
    },
    {
      "cell_type": "markdown",
      "source": [
        "Clean degree variable:"
      ],
      "metadata": {
        "id": "i-93SllTYJMz"
      }
    },
    {
      "cell_type": "code",
      "source": [
        "df = df.rename(columns = {'degree':'degree_obtained'})\n",
        "deg = df['degree_obtained']\n",
        "deg.fillna('unknown', inplace=True) #replace NAs with 'unknown'\n",
        "deg.drop(df[df['degree_obtained'] == 'degree'].index, inplace=True) #drop rows with degree\n",
        "df['degree_obtained'] = deg\n",
        "del deg"
      ],
      "metadata": {
        "id": "N9RkfmbQWw-k"
      },
      "execution_count": 65,
      "outputs": []
    },
    {
      "cell_type": "markdown",
      "source": [
        "Clean education variable:"
      ],
      "metadata": {
        "id": "jcpPrY9hTC_c"
      }
    },
    {
      "cell_type": "code",
      "source": [
        "education = df['education']\n",
        "education = pd.to_numeric(education,errors='coerce') # Typecast age to float/numeric\n",
        "education.fillna('unknown', inplace=True) #replace NAs with 'unknown'\n",
        "education = education.apply(lambda x: int(x) if pd.notnull(x) and x != 'unknown' else x) # converts age to integer and removes the .0 at the end\n",
        "df['education'] = education\n",
        "del education"
      ],
      "metadata": {
        "id": "u0Ns3bMgTEy0"
      },
      "execution_count": 66,
      "outputs": []
    }
  ]
}